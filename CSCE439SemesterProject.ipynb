{
  "cells": [
    {
      "cell_type": "markdown",
      "source": [
        "<h1>CSCE 439 Final Project Source Code"
      ],
      "metadata": {
        "id": "ABtdSH7z3EmH"
      }
    },
    {
      "cell_type": "markdown",
      "source": [
        "<h2> 1. Installing the Dataset"
      ],
      "metadata": {
        "id": "yCJjUP3vqEw5"
      }
    },
    {
      "cell_type": "code",
      "execution_count": null,
      "metadata": {
        "colab": {
          "base_uri": "https://localhost:8080/"
        },
        "id": "iGsyYTuGBnoB",
        "outputId": "1947d71b-955d-41fc-8579-31850d1339f8"
      },
      "outputs": [
        {
          "output_type": "stream",
          "name": "stdout",
          "text": [
            "Collecting ucimlrepo\n",
            "  Downloading ucimlrepo-0.0.7-py3-none-any.whl.metadata (5.5 kB)\n",
            "Requirement already satisfied: pandas>=1.0.0 in /usr/local/lib/python3.10/dist-packages (from ucimlrepo) (2.2.2)\n",
            "Requirement already satisfied: certifi>=2020.12.5 in /usr/local/lib/python3.10/dist-packages (from ucimlrepo) (2024.8.30)\n",
            "Requirement already satisfied: numpy>=1.22.4 in /usr/local/lib/python3.10/dist-packages (from pandas>=1.0.0->ucimlrepo) (1.26.4)\n",
            "Requirement already satisfied: python-dateutil>=2.8.2 in /usr/local/lib/python3.10/dist-packages (from pandas>=1.0.0->ucimlrepo) (2.8.2)\n",
            "Requirement already satisfied: pytz>=2020.1 in /usr/local/lib/python3.10/dist-packages (from pandas>=1.0.0->ucimlrepo) (2024.2)\n",
            "Requirement already satisfied: tzdata>=2022.7 in /usr/local/lib/python3.10/dist-packages (from pandas>=1.0.0->ucimlrepo) (2024.2)\n",
            "Requirement already satisfied: six>=1.5 in /usr/local/lib/python3.10/dist-packages (from python-dateutil>=2.8.2->pandas>=1.0.0->ucimlrepo) (1.16.0)\n",
            "Downloading ucimlrepo-0.0.7-py3-none-any.whl (8.0 kB)\n",
            "Installing collected packages: ucimlrepo\n",
            "Successfully installed ucimlrepo-0.0.7\n"
          ]
        }
      ],
      "source": [
        "pip install ucimlrepo\n"
      ]
    },
    {
      "cell_type": "markdown",
      "source": [
        "<h2> 2. Train Model on RFC"
      ],
      "metadata": {
        "id": "Vs3TINAUqK9S"
      }
    },
    {
      "cell_type": "code",
      "execution_count": 4,
      "metadata": {
        "colab": {
          "base_uri": "https://localhost:8080/"
        },
        "id": "gQZnNX-AMs1p",
        "outputId": "4418c8aa-d67b-4739-dd9f-a0a0d5703bbb"
      },
      "outputs": [
        {
          "output_type": "stream",
          "name": "stdout",
          "text": [
            "              precision    recall  f1-score   support\n",
            "\n",
            "           0       0.94      0.84      0.88      4942\n",
            "           1       0.62      0.83      0.71      1571\n",
            "\n",
            "    accuracy                           0.83      6513\n",
            "   macro avg       0.78      0.83      0.80      6513\n",
            "weighted avg       0.86      0.83      0.84      6513\n",
            "\n"
          ]
        }
      ],
      "source": [
        "import pandas as pd\n",
        "from sklearn.model_selection import train_test_split\n",
        "from sklearn.preprocessing import OneHotEncoder, StandardScaler\n",
        "from sklearn.compose import ColumnTransformer\n",
        "from sklearn.pipeline import Pipeline\n",
        "from sklearn.ensemble import RandomForestClassifier\n",
        "from sklearn.metrics import classification_report\n",
        "\n",
        "# Load dataset\n",
        "url = \"https://archive.ics.uci.edu/ml/machine-learning-databases/adult/adult.data\"\n",
        "columns = [\"age\", \"workclass\", \"fnlwgt\", \"education\", \"education_num\", \"marital_status\",\n",
        "           \"occupation\", \"relationship\", \"race\", \"sex\", \"capital_gain\", \"capital_loss\",\n",
        "           \"hours_per_week\", \"native_country\", \"income\"]\n",
        "data = pd.read_csv(url, header=None, names=columns, na_values=\" ?\", skipinitialspace=True)\n",
        "\n",
        "# Drop rows with missing values\n",
        "data.dropna(inplace=True)\n",
        "\n",
        "X = data.drop([\"income\", \"fnlwgt\"], axis=1)\n",
        "y = data[\"income\"].apply(lambda x: 1 if x == \">50K\" else 0)\n",
        "\n",
        "# 80-20 split\n",
        "X_train, X_test, y_train, y_test = train_test_split(X, y, test_size=0.2, random_state=42)\n",
        "\n",
        "# Preprocessing: categorical and numerical features\n",
        "categorical_features = X.select_dtypes(include=[\"object\"]).columns\n",
        "numerical_features = X.select_dtypes(exclude=[\"object\"]).columns\n",
        "\n",
        "preprocessor = ColumnTransformer([\n",
        "    (\"num\", StandardScaler(), numerical_features),\n",
        "    (\"cat\", OneHotEncoder(handle_unknown=\"ignore\"), categorical_features)\n",
        "])\n",
        "\n",
        "# Model pipeline\n",
        "model = Pipeline([\n",
        "    (\"preprocessor\", preprocessor),\n",
        "    (\"classifier\", RandomForestClassifier(\n",
        "        n_estimators=200,\n",
        "        max_depth=20,\n",
        "        min_samples_split=5,\n",
        "        class_weight='balanced',\n",
        "        random_state=42\n",
        "    ))\n",
        "])\n",
        "\n",
        "# Train the model\n",
        "model.fit(X_train, y_train)\n",
        "\n",
        "# Evaluate the model\n",
        "y_pred = model.predict(X_test)\n",
        "print(classification_report(y_test, y_pred))\n",
        "\n"
      ]
    },
    {
      "cell_type": "code",
      "source": [
        "import matplotlib.pyplot as plt\n",
        "from sklearn.metrics import precision_recall_curve, auc\n",
        "\n",
        "# Get predicted probabilities\n",
        "y_probs = model.predict_proba(X_test)[:, 1]\n",
        "\n",
        "# Calculate precision-recall curve\n",
        "precision, recall, thresholds = precision_recall_curve(y_test, y_probs)\n",
        "\n",
        "# Calculate the area under the curve\n",
        "prc_auc = auc(recall, precision)\n",
        "\n",
        "# Plot the PRC\n",
        "plt.figure()\n",
        "plt.plot(recall, precision, label=f'PRC (AUC = {prc_auc:.2f})')\n",
        "plt.xlabel('Recall')\n",
        "plt.ylabel('Precision')\n",
        "plt.title('Precision-Recall Curve')\n",
        "plt.legend()\n",
        "plt.grid()\n",
        "plt.show()\n"
      ],
      "metadata": {
        "colab": {
          "base_uri": "https://localhost:8080/",
          "height": 472
        },
        "id": "ihjucCJiNyj1",
        "outputId": "bdb6029c-b46e-45e8-d1ad-2398c6d9463e"
      },
      "execution_count": 3,
      "outputs": [
        {
          "output_type": "display_data",
          "data": {
            "text/plain": [
              "<Figure size 640x480 with 1 Axes>"
            ],
            "image/png": "[encoded data removed]"
          },
          "metadata": {}
        }
      ]
    },
    {
      "cell_type": "markdown",
      "source": [
        "<h2> 3. Identify Feature Importance"
      ],
      "metadata": {
        "id": "O__vlvYBq3kf"
      }
    },
    {
      "cell_type": "code",
      "source": [
        "from sklearn.compose import ColumnTransformer\n",
        "from sklearn.preprocessing import StandardScaler, OrdinalEncoder\n",
        "from sklearn.ensemble import RandomForestClassifier\n",
        "from sklearn.pipeline import Pipeline\n",
        "import pandas as pd\n",
        "\n",
        "# Extract numerical and categorical features\n",
        "categorical_features = X.select_dtypes(include=[\"object\"]).columns\n",
        "numerical_features = X.select_dtypes(exclude=[\"object\"]).columns\n",
        "\n",
        "preprocessor = ColumnTransformer([\n",
        "    (\"num\", StandardScaler(), numerical_features),\n",
        "    (\"cat\", OrdinalEncoder(handle_unknown=\"use_encoded_value\", unknown_value=-1), categorical_features)\n",
        "])\n",
        "\n",
        "# Updated model pipeline\n",
        "model = Pipeline([\n",
        "    (\"preprocessor\", preprocessor),\n",
        "    (\"classifier\", RandomForestClassifier(\n",
        "        n_estimators=200,\n",
        "        max_depth=20,\n",
        "        min_samples_split=5,\n",
        "        class_weight='balanced',\n",
        "        random_state=42\n",
        "    ))\n",
        "])\n",
        "\n",
        "# Train and fit the model\n",
        "model.fit(X_train, y_train)\n",
        "\n",
        "# Get feature importance\n",
        "feature_names = numerical_features.tolist() + categorical_features.tolist()\n",
        "importances = model.named_steps['classifier'].feature_importances_\n",
        "feature_importance = pd.DataFrame({'Feature': feature_names, 'Importance': importances})\n",
        "\n",
        "# Sort by importance\n",
        "feature_importance = feature_importance.sort_values(by='Importance', ascending=False)\n",
        "\n",
        "print(feature_importance.head(20))  # Top 20 features\n"
      ],
      "metadata": {
        "colab": {
          "base_uri": "https://localhost:8080/"
        },
        "id": "4XxM-8KBacpE",
        "outputId": "ba09a04a-9648-4634-d581-3a438649caea"
      },
      "execution_count": 2,
      "outputs": [
        {
          "output_type": "stream",
          "name": "stdout",
          "text": [
            "           Feature  Importance\n",
            "7   marital_status    0.165931\n",
            "9     relationship    0.157104\n",
            "0              age    0.154665\n",
            "1    education_num    0.112554\n",
            "2     capital_gain    0.102801\n",
            "4   hours_per_week    0.085004\n",
            "8       occupation    0.061508\n",
            "6        education    0.042391\n",
            "5        workclass    0.033435\n",
            "3     capital_loss    0.030306\n",
            "11             sex    0.021666\n",
            "12  native_country    0.017760\n",
            "10            race    0.014876\n"
          ]
        }
      ]
    },
    {
      "cell_type": "markdown",
      "source": [
        "<h2> 4. Inference Attacks"
      ],
      "metadata": {
        "id": "2KUtHrvqq-yk"
      }
    },
    {
      "cell_type": "code",
      "source": [
        "# Function to create models to predict individual attributes\n",
        "def inference_attack_models(data, target_attributes, drop_features):\n",
        "    results = {}\n",
        "    for attribute in target_attributes:\n",
        "        # Exclude the target attribute from features\n",
        "        X = data.drop(drop_features + [attribute], axis=1)\n",
        "        y = data[attribute]\n",
        "        target_names = pd.unique(y)\n",
        "\n",
        "        # Encode target attribute if categorical\n",
        "        if y.dtype == 'object':\n",
        "            y = pd.factorize(y)[0]\n",
        "\n",
        "        # Train-test split\n",
        "        X_train, X_test, y_train, y_test = train_test_split(X, y, test_size=0.2, random_state=42)\n",
        "\n",
        "        # Preprocessing pipeline\n",
        "        categorical_features = X.select_dtypes(include=[\"object\"]).columns\n",
        "        numerical_features = X.select_dtypes(exclude=[\"object\"]).columns\n",
        "\n",
        "\n",
        "        preprocessor = ColumnTransformer([\n",
        "            (\"num\", StandardScaler(), numerical_features),\n",
        "            (\"cat\", OneHotEncoder(handle_unknown=\"ignore\"), categorical_features)\n",
        "        ])\n",
        "\n",
        "        model = Pipeline([\n",
        "    (\"preprocessor\", preprocessor),\n",
        "    (\"classifier\", RandomForestClassifier(\n",
        "        n_estimators=200,\n",
        "        max_depth=20,\n",
        "        min_samples_split=5,\n",
        "        class_weight='balanced',\n",
        "        random_state=42\n",
        "    ))\n",
        "])\n",
        "\n",
        "        # Train and evaluate the model\n",
        "        model.fit(X_train, y_train)\n",
        "        y_pred = model.predict(X_test)\n",
        "        print(target_names)\n",
        "\n",
        "        # Store results\n",
        "        results[attribute] = classification_report(y_test, y_pred, output_dict=True)\n",
        "\n",
        "    return results\n",
        "\n",
        "# List of attributes to predict (target attributes)\n",
        "target_attributes = [\"sex\"]\n",
        "#target_attributes = [\"sex\", \"education\", \"relationship\", \"race\", \"age\", \"occupation\"]\n",
        "\n",
        "# Attributes to drop while training each model\n",
        "drop_features = [\"income\", \"fnlwgt\"]  # Income and other irrelevant features for these attacks\n",
        "\n",
        "# Run inference attacks\n",
        "inference_results = inference_attack_models(data, target_attributes, drop_features)\n",
        "\n",
        "#Print the classification reports for each attribute\n",
        "# for attribute, report in inference_results.items():\n",
        "#     print(f\"--- Classification Report for {attribute} ---\")\n",
        "#     print(pd.DataFrame(report).transpose())\n",
        "#     print(\"\\n\")\n"
      ],
      "metadata": {
        "id": "2stjP5RHbXdQ",
        "colab": {
          "base_uri": "https://localhost:8080/"
        },
        "outputId": "8d294f70-8426-436d-ed8b-2e98549c489f"
      },
      "execution_count": null,
      "outputs": [
        {
          "output_type": "stream",
          "name": "stdout",
          "text": [
            "['Male' 'Female']\n"
          ]
        }
      ]
    },
    {
      "cell_type": "code",
      "source": [
        "import pandas as pd\n",
        "\n",
        "def process_compiled_reports(reports):\n",
        "    processed_reports = {}\n",
        "\n",
        "    for attribute, report in reports.items():\n",
        "        # Convert the report to DataFrame\n",
        "        report_df = pd.DataFrame(report).transpose()\n",
        "\n",
        "        # Filter out classes with support < 50 or >= 6513\n",
        "        filtered_df = report_df[(report_df[\"support\"] >= 50) & (report_df[\"support\"] < 6513)]\n",
        "\n",
        "        # Calculate total filtered support\n",
        "        total_filtered_support = filtered_df[\"support\"].sum()\n",
        "\n",
        "        # Calculate the number of correct predictions (precision * support) and total support\n",
        "        total_correct = (filtered_df[\"precision\"] * filtered_df[\"support\"]).sum()\n",
        "\n",
        "        # Recalculate accuracy\n",
        "        accuracy = total_correct / total_filtered_support\n",
        "\n",
        "        # Recalculate macro avg and weighted avg\n",
        "        macro_avg = {\n",
        "    \"precision\": filtered_df[\"precision\"].mean(),\n",
        "    \"recall\": filtered_df[\"recall\"].mean(),\n",
        "    \"f1-score\": filtered_df[\"f1-score\"].mean(),\n",
        "    \"support\": total_filtered_support,\n",
        "}\n",
        "  # Average across valid classes\n",
        "\n",
        "        weighted_avg = {\n",
        "            \"precision\": (filtered_df[\"precision\"] * filtered_df[\"support\"]).sum() / total_filtered_support,\n",
        "            \"recall\": (filtered_df[\"recall\"] * filtered_df[\"support\"]).sum() / total_filtered_support,\n",
        "            \"f1-score\": (filtered_df[\"f1-score\"] * filtered_df[\"support\"]).sum() / total_filtered_support,\n",
        "            \"support\": total_filtered_support,  # Same support for weighted avg\n",
        "        }\n",
        "\n",
        "        # Add recalculated rows\n",
        "        filtered_df.loc[\"accuracy\"] = {\n",
        "            \"precision\": (filtered_df[\"recall\"] * filtered_df[\"support\"]).sum() / total_filtered_support,\n",
        "            \"recall\": (filtered_df[\"recall\"] * filtered_df[\"support\"]).sum() / total_filtered_support,\n",
        "            \"f1-score\": (filtered_df[\"recall\"] * filtered_df[\"support\"]).sum() / total_filtered_support,\n",
        "            \"support\": (filtered_df[\"recall\"] * filtered_df[\"support\"]).sum() / total_filtered_support,\n",
        "        }\n",
        "        filtered_df.loc[\"macro avg\"] = macro_avg\n",
        "        filtered_df.loc[\"weighted avg\"] = weighted_avg\n",
        "\n",
        "        # Save processed report\n",
        "        processed_reports[attribute] = filtered_df\n",
        "\n",
        "    return processed_reports\n",
        "\n",
        "\n",
        "\n",
        "\n",
        "# Process all reports\n",
        "processed_reports = process_compiled_reports(inference_results)\n",
        "\n",
        "# Print adjusted reports\n",
        "for attribute, report in processed_reports.items():\n",
        "    print(f\"--- Processed Classification Report for {attribute} ---\")\n",
        "    print(report)\n",
        "    print(\"\\n\")\n",
        "\n"
      ],
      "metadata": {
        "colab": {
          "base_uri": "https://localhost:8080/"
        },
        "id": "UTCmKEoaTv5E",
        "outputId": "13c6cd7b-9c95-45b5-da15-c297aed6ae02"
      },
      "execution_count": null,
      "outputs": [
        {
          "output_type": "stream",
          "name": "stdout",
          "text": [
            "--- Processed Classification Report for sex ---\n",
            "              precision    recall  f1-score      support\n",
            "0              0.960091  0.767723  0.853198  4387.000000\n",
            "1              0.660899  0.934149  0.774118  2126.000000\n",
            "accuracy       0.822048  0.822048  0.822048     0.822048\n",
            "macro avg      0.810495  0.850936  0.813658  6513.000000\n",
            "weighted avg   0.862428  0.822048  0.827385  6513.000000\n",
            "\n",
            "\n"
          ]
        },
        {
          "output_type": "stream",
          "name": "stderr",
          "text": [
            "<ipython-input-21-091a05b3648b>:39: SettingWithCopyWarning: \n",
            "A value is trying to be set on a copy of a slice from a DataFrame\n",
            "\n",
            "See the caveats in the documentation: https://pandas.pydata.org/pandas-docs/stable/user_guide/indexing.html#returning-a-view-versus-a-copy\n",
            "  filtered_df.loc[\"accuracy\"] = {\n",
            "<ipython-input-21-091a05b3648b>:45: SettingWithCopyWarning: \n",
            "A value is trying to be set on a copy of a slice from a DataFrame\n",
            "\n",
            "See the caveats in the documentation: https://pandas.pydata.org/pandas-docs/stable/user_guide/indexing.html#returning-a-view-versus-a-copy\n",
            "  filtered_df.loc[\"macro avg\"] = macro_avg\n"
          ]
        }
      ]
    }
  ],
  "metadata": {
    "colab": {
      "provenance": []
    },
    "kernelspec": {
      "display_name": "Python 3",
      "name": "python3"
    },
    "language_info": {
      "name": "python"
    }
  },
  "nbformat": 4,
  "nbformat_minor": 0
}